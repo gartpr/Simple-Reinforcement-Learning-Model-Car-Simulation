{
 "cells": [
  {
   "cell_type": "markdown",
   "id": "90e52bd4-be0d-4a9a-a901-981b48902041",
   "metadata": {},
   "source": [
    "## Install Dependencies"
   ]
  },
  {
   "cell_type": "code",
   "execution_count": 1,
   "id": "3ad898fe-098f-4e9c-825c-0f9577a2a66c",
   "metadata": {
    "collapsed": true,
    "jupyter": {
     "outputs_hidden": true
    },
    "tags": []
   },
   "outputs": [
    {
     "name": "stdout",
     "output_type": "stream",
     "text": [
      "Requirement already satisfied: ray[rllib] in c:\\users\\ggorczyca\\anaconda3\\envs\\gymcar\\lib\\site-packages (1.13.0)\n",
      "Requirement already satisfied: requests in c:\\users\\ggorczyca\\anaconda3\\envs\\gymcar\\lib\\site-packages (from ray[rllib]) (2.28.1)\n",
      "Requirement already satisfied: protobuf<4.0.0,>=3.15.3 in c:\\users\\ggorczyca\\anaconda3\\envs\\gymcar\\lib\\site-packages (from ray[rllib]) (3.19.4)\n",
      "Requirement already satisfied: pyyaml in c:\\users\\ggorczyca\\anaconda3\\envs\\gymcar\\lib\\site-packages (from ray[rllib]) (6.0)\n",
      "Requirement already satisfied: filelock in c:\\users\\ggorczyca\\anaconda3\\envs\\gymcar\\lib\\site-packages (from ray[rllib]) (3.7.1)\n",
      "Requirement already satisfied: click<=8.0.4,>=7.0 in c:\\users\\ggorczyca\\anaconda3\\envs\\gymcar\\lib\\site-packages (from ray[rllib]) (8.0.4)\n",
      "Requirement already satisfied: grpcio<=1.43.0,>=1.28.1 in c:\\users\\ggorczyca\\anaconda3\\envs\\gymcar\\lib\\site-packages (from ray[rllib]) (1.43.0)\n",
      "Requirement already satisfied: frozenlist in c:\\users\\ggorczyca\\anaconda3\\envs\\gymcar\\lib\\site-packages (from ray[rllib]) (1.3.1)\n",
      "Requirement already satisfied: attrs in c:\\users\\ggorczyca\\anaconda3\\envs\\gymcar\\lib\\site-packages (from ray[rllib]) (22.1.0)\n",
      "Requirement already satisfied: jsonschema in c:\\users\\ggorczyca\\anaconda3\\envs\\gymcar\\lib\\site-packages (from ray[rllib]) (4.9.1)\n",
      "Requirement already satisfied: virtualenv in c:\\users\\ggorczyca\\anaconda3\\envs\\gymcar\\lib\\site-packages (from ray[rllib]) (20.16.3)\n",
      "Requirement already satisfied: numpy>=1.16 in c:\\users\\ggorczyca\\anaconda3\\envs\\gymcar\\lib\\site-packages (from ray[rllib]) (1.23.1)\n",
      "Requirement already satisfied: aiosignal in c:\\users\\ggorczyca\\anaconda3\\envs\\gymcar\\lib\\site-packages (from ray[rllib]) (1.2.0)\n",
      "Requirement already satisfied: msgpack<2.0.0,>=1.0.0 in c:\\users\\ggorczyca\\anaconda3\\envs\\gymcar\\lib\\site-packages (from ray[rllib]) (1.0.4)\n",
      "Requirement already satisfied: lz4 in c:\\users\\ggorczyca\\anaconda3\\envs\\gymcar\\lib\\site-packages (from ray[rllib]) (4.0.2)\n",
      "Requirement already satisfied: tabulate in c:\\users\\ggorczyca\\anaconda3\\envs\\gymcar\\lib\\site-packages (from ray[rllib]) (0.8.10)\n",
      "Requirement already satisfied: scipy in c:\\users\\ggorczyca\\anaconda3\\envs\\gymcar\\lib\\site-packages (from ray[rllib]) (1.9.0)\n",
      "Requirement already satisfied: scikit-image in c:\\users\\ggorczyca\\anaconda3\\envs\\gymcar\\lib\\site-packages (from ray[rllib]) (0.19.3)\n",
      "Requirement already satisfied: pandas in c:\\users\\ggorczyca\\anaconda3\\envs\\gymcar\\lib\\site-packages (from ray[rllib]) (1.4.3)\n",
      "Requirement already satisfied: tensorboardX>=1.9 in c:\\users\\ggorczyca\\anaconda3\\envs\\gymcar\\lib\\site-packages (from ray[rllib]) (2.5.1)\n",
      "Requirement already satisfied: gym<0.22 in c:\\users\\ggorczyca\\anaconda3\\envs\\gymcar\\lib\\site-packages (from ray[rllib]) (0.21.0)\n",
      "Requirement already satisfied: matplotlib!=3.4.3 in c:\\users\\ggorczyca\\anaconda3\\envs\\gymcar\\lib\\site-packages (from ray[rllib]) (3.5.2)\n",
      "Requirement already satisfied: dm-tree in c:\\users\\ggorczyca\\anaconda3\\envs\\gymcar\\lib\\site-packages (from ray[rllib]) (0.1.7)\n",
      "Requirement already satisfied: colorama in c:\\users\\ggorczyca\\anaconda3\\envs\\gymcar\\lib\\site-packages (from click<=8.0.4,>=7.0->ray[rllib]) (0.4.5)\n",
      "Requirement already satisfied: six>=1.5.2 in c:\\users\\ggorczyca\\anaconda3\\envs\\gymcar\\lib\\site-packages (from grpcio<=1.43.0,>=1.28.1->ray[rllib]) (1.16.0)\n",
      "Requirement already satisfied: cloudpickle>=1.2.0 in c:\\users\\ggorczyca\\anaconda3\\envs\\gymcar\\lib\\site-packages (from gym<0.22->ray[rllib]) (2.1.0)\n",
      "Requirement already satisfied: pyparsing>=2.2.1 in c:\\users\\ggorczyca\\anaconda3\\envs\\gymcar\\lib\\site-packages (from matplotlib!=3.4.3->ray[rllib]) (3.0.9)\n",
      "Requirement already satisfied: pillow>=6.2.0 in c:\\users\\ggorczyca\\anaconda3\\envs\\gymcar\\lib\\site-packages (from matplotlib!=3.4.3->ray[rllib]) (9.2.0)\n",
      "Requirement already satisfied: kiwisolver>=1.0.1 in c:\\users\\ggorczyca\\anaconda3\\envs\\gymcar\\lib\\site-packages (from matplotlib!=3.4.3->ray[rllib]) (1.4.4)\n",
      "Requirement already satisfied: cycler>=0.10 in c:\\users\\ggorczyca\\anaconda3\\envs\\gymcar\\lib\\site-packages (from matplotlib!=3.4.3->ray[rllib]) (0.11.0)\n",
      "Requirement already satisfied: python-dateutil>=2.7 in c:\\users\\ggorczyca\\anaconda3\\envs\\gymcar\\lib\\site-packages (from matplotlib!=3.4.3->ray[rllib]) (2.8.2)\n",
      "Requirement already satisfied: packaging>=20.0 in c:\\users\\ggorczyca\\anaconda3\\envs\\gymcar\\lib\\site-packages (from matplotlib!=3.4.3->ray[rllib]) (21.3)\n",
      "Requirement already satisfied: fonttools>=4.22.0 in c:\\users\\ggorczyca\\anaconda3\\envs\\gymcar\\lib\\site-packages (from matplotlib!=3.4.3->ray[rllib]) (4.34.4)\n",
      "Requirement already satisfied: importlib-resources>=1.4.0 in c:\\users\\ggorczyca\\anaconda3\\envs\\gymcar\\lib\\site-packages (from jsonschema->ray[rllib]) (5.9.0)\n",
      "Requirement already satisfied: pyrsistent!=0.17.0,!=0.17.1,!=0.17.2,>=0.14.0 in c:\\users\\ggorczyca\\anaconda3\\envs\\gymcar\\lib\\site-packages (from jsonschema->ray[rllib]) (0.18.1)\n",
      "Requirement already satisfied: pkgutil-resolve-name>=1.3.10 in c:\\users\\ggorczyca\\anaconda3\\envs\\gymcar\\lib\\site-packages (from jsonschema->ray[rllib]) (1.3.10)\n",
      "Requirement already satisfied: pytz>=2020.1 in c:\\users\\ggorczyca\\anaconda3\\envs\\gymcar\\lib\\site-packages (from pandas->ray[rllib]) (2022.1)\n",
      "Requirement already satisfied: urllib3<1.27,>=1.21.1 in c:\\users\\ggorczyca\\anaconda3\\envs\\gymcar\\lib\\site-packages (from requests->ray[rllib]) (1.26.11)\n",
      "Requirement already satisfied: charset-normalizer<3,>=2 in c:\\users\\ggorczyca\\anaconda3\\envs\\gymcar\\lib\\site-packages (from requests->ray[rllib]) (2.1.0)\n",
      "Requirement already satisfied: certifi>=2017.4.17 in c:\\users\\ggorczyca\\anaconda3\\envs\\gymcar\\lib\\site-packages (from requests->ray[rllib]) (2022.6.15)\n",
      "Requirement already satisfied: idna<4,>=2.5 in c:\\users\\ggorczyca\\anaconda3\\envs\\gymcar\\lib\\site-packages (from requests->ray[rllib]) (3.3)\n",
      "Requirement already satisfied: tifffile>=2019.7.26 in c:\\users\\ggorczyca\\anaconda3\\envs\\gymcar\\lib\\site-packages (from scikit-image->ray[rllib]) (2022.8.3)\n",
      "Requirement already satisfied: networkx>=2.2 in c:\\users\\ggorczyca\\anaconda3\\envs\\gymcar\\lib\\site-packages (from scikit-image->ray[rllib]) (2.8.5)\n",
      "Requirement already satisfied: PyWavelets>=1.1.1 in c:\\users\\ggorczyca\\anaconda3\\envs\\gymcar\\lib\\site-packages (from scikit-image->ray[rllib]) (1.3.0)\n",
      "Requirement already satisfied: imageio>=2.4.1 in c:\\users\\ggorczyca\\anaconda3\\envs\\gymcar\\lib\\site-packages (from scikit-image->ray[rllib]) (2.21.1)\n",
      "Requirement already satisfied: distlib<1,>=0.3.5 in c:\\users\\ggorczyca\\anaconda3\\envs\\gymcar\\lib\\site-packages (from virtualenv->ray[rllib]) (0.3.5)\n",
      "Requirement already satisfied: platformdirs<3,>=2.4 in c:\\users\\ggorczyca\\anaconda3\\envs\\gymcar\\lib\\site-packages (from virtualenv->ray[rllib]) (2.5.2)\n",
      "Requirement already satisfied: zipp>=3.1.0 in c:\\users\\ggorczyca\\anaconda3\\envs\\gymcar\\lib\\site-packages (from importlib-resources>=1.4.0->jsonschema->ray[rllib]) (3.8.1)\n",
      "Requirement already satisfied: tensorflow in c:\\users\\ggorczyca\\anaconda3\\envs\\gymcar\\lib\\site-packages (2.9.1)\n",
      "Requirement already satisfied: numpy>=1.20 in c:\\users\\ggorczyca\\anaconda3\\envs\\gymcar\\lib\\site-packages (from tensorflow) (1.23.1)\n",
      "Requirement already satisfied: protobuf<3.20,>=3.9.2 in c:\\users\\ggorczyca\\anaconda3\\envs\\gymcar\\lib\\site-packages (from tensorflow) (3.19.4)\n",
      "Requirement already satisfied: packaging in c:\\users\\ggorczyca\\anaconda3\\envs\\gymcar\\lib\\site-packages (from tensorflow) (21.3)\n",
      "Requirement already satisfied: tensorflow-io-gcs-filesystem>=0.23.1 in c:\\users\\ggorczyca\\anaconda3\\envs\\gymcar\\lib\\site-packages (from tensorflow) (0.26.0)\n",
      "Requirement already satisfied: opt-einsum>=2.3.2 in c:\\users\\ggorczyca\\anaconda3\\envs\\gymcar\\lib\\site-packages (from tensorflow) (3.3.0)\n",
      "Requirement already satisfied: tensorboard<2.10,>=2.9 in c:\\users\\ggorczyca\\anaconda3\\envs\\gymcar\\lib\\site-packages (from tensorflow) (2.9.1)\n",
      "Requirement already satisfied: h5py>=2.9.0 in c:\\users\\ggorczyca\\anaconda3\\envs\\gymcar\\lib\\site-packages (from tensorflow) (3.7.0)\n",
      "Requirement already satisfied: six>=1.12.0 in c:\\users\\ggorczyca\\anaconda3\\envs\\gymcar\\lib\\site-packages (from tensorflow) (1.16.0)\n",
      "Requirement already satisfied: astunparse>=1.6.0 in c:\\users\\ggorczyca\\anaconda3\\envs\\gymcar\\lib\\site-packages (from tensorflow) (1.6.3)\n",
      "Requirement already satisfied: typing-extensions>=3.6.6 in c:\\users\\ggorczyca\\anaconda3\\envs\\gymcar\\lib\\site-packages (from tensorflow) (4.3.0)\n",
      "Requirement already satisfied: grpcio<2.0,>=1.24.3 in c:\\users\\ggorczyca\\anaconda3\\envs\\gymcar\\lib\\site-packages (from tensorflow) (1.43.0)\n",
      "Requirement already satisfied: libclang>=13.0.0 in c:\\users\\ggorczyca\\anaconda3\\envs\\gymcar\\lib\\site-packages (from tensorflow) (14.0.6)\n",
      "Requirement already satisfied: wrapt>=1.11.0 in c:\\users\\ggorczyca\\anaconda3\\envs\\gymcar\\lib\\site-packages (from tensorflow) (1.14.1)\n",
      "Requirement already satisfied: keras<2.10.0,>=2.9.0rc0 in c:\\users\\ggorczyca\\anaconda3\\envs\\gymcar\\lib\\site-packages (from tensorflow) (2.9.0)\n",
      "Requirement already satisfied: gast<=0.4.0,>=0.2.1 in c:\\users\\ggorczyca\\anaconda3\\envs\\gymcar\\lib\\site-packages (from tensorflow) (0.4.0)\n",
      "Requirement already satisfied: flatbuffers<2,>=1.12 in c:\\users\\ggorczyca\\anaconda3\\envs\\gymcar\\lib\\site-packages (from tensorflow) (1.12)\n",
      "Requirement already satisfied: google-pasta>=0.1.1 in c:\\users\\ggorczyca\\anaconda3\\envs\\gymcar\\lib\\site-packages (from tensorflow) (0.2.0)\n",
      "Requirement already satisfied: tensorflow-estimator<2.10.0,>=2.9.0rc0 in c:\\users\\ggorczyca\\anaconda3\\envs\\gymcar\\lib\\site-packages (from tensorflow) (2.9.0)\n",
      "Requirement already satisfied: keras-preprocessing>=1.1.1 in c:\\users\\ggorczyca\\anaconda3\\envs\\gymcar\\lib\\site-packages (from tensorflow) (1.1.2)\n",
      "Requirement already satisfied: termcolor>=1.1.0 in c:\\users\\ggorczyca\\anaconda3\\envs\\gymcar\\lib\\site-packages (from tensorflow) (1.1.0)\n",
      "Requirement already satisfied: absl-py>=1.0.0 in c:\\users\\ggorczyca\\anaconda3\\envs\\gymcar\\lib\\site-packages (from tensorflow) (1.2.0)\n",
      "Requirement already satisfied: setuptools in c:\\users\\ggorczyca\\anaconda3\\envs\\gymcar\\lib\\site-packages (from tensorflow) (61.2.0)\n",
      "Requirement already satisfied: wheel<1.0,>=0.23.0 in c:\\users\\ggorczyca\\anaconda3\\envs\\gymcar\\lib\\site-packages (from astunparse>=1.6.0->tensorflow) (0.37.1)\n",
      "Requirement already satisfied: requests<3,>=2.21.0 in c:\\users\\ggorczyca\\anaconda3\\envs\\gymcar\\lib\\site-packages (from tensorboard<2.10,>=2.9->tensorflow) (2.28.1)\n",
      "Requirement already satisfied: google-auth-oauthlib<0.5,>=0.4.1 in c:\\users\\ggorczyca\\anaconda3\\envs\\gymcar\\lib\\site-packages (from tensorboard<2.10,>=2.9->tensorflow) (0.4.6)\n",
      "Requirement already satisfied: markdown>=2.6.8 in c:\\users\\ggorczyca\\anaconda3\\envs\\gymcar\\lib\\site-packages (from tensorboard<2.10,>=2.9->tensorflow) (3.4.1)\n",
      "Requirement already satisfied: werkzeug>=1.0.1 in c:\\users\\ggorczyca\\anaconda3\\envs\\gymcar\\lib\\site-packages (from tensorboard<2.10,>=2.9->tensorflow) (2.2.1)\n",
      "Requirement already satisfied: tensorboard-plugin-wit>=1.6.0 in c:\\users\\ggorczyca\\anaconda3\\envs\\gymcar\\lib\\site-packages (from tensorboard<2.10,>=2.9->tensorflow) (1.8.1)\n",
      "Requirement already satisfied: tensorboard-data-server<0.7.0,>=0.6.0 in c:\\users\\ggorczyca\\anaconda3\\envs\\gymcar\\lib\\site-packages (from tensorboard<2.10,>=2.9->tensorflow) (0.6.1)\n",
      "Requirement already satisfied: google-auth<3,>=1.6.3 in c:\\users\\ggorczyca\\anaconda3\\envs\\gymcar\\lib\\site-packages (from tensorboard<2.10,>=2.9->tensorflow) (2.10.0)\n",
      "Requirement already satisfied: pyparsing!=3.0.5,>=2.0.2 in c:\\users\\ggorczyca\\anaconda3\\envs\\gymcar\\lib\\site-packages (from packaging->tensorflow) (3.0.9)\n",
      "Requirement already satisfied: pyasn1-modules>=0.2.1 in c:\\users\\ggorczyca\\anaconda3\\envs\\gymcar\\lib\\site-packages (from google-auth<3,>=1.6.3->tensorboard<2.10,>=2.9->tensorflow) (0.2.8)\n",
      "Requirement already satisfied: cachetools<6.0,>=2.0.0 in c:\\users\\ggorczyca\\anaconda3\\envs\\gymcar\\lib\\site-packages (from google-auth<3,>=1.6.3->tensorboard<2.10,>=2.9->tensorflow) (5.2.0)\n",
      "Requirement already satisfied: rsa<5,>=3.1.4 in c:\\users\\ggorczyca\\anaconda3\\envs\\gymcar\\lib\\site-packages (from google-auth<3,>=1.6.3->tensorboard<2.10,>=2.9->tensorflow) (4.9)\n",
      "Requirement already satisfied: requests-oauthlib>=0.7.0 in c:\\users\\ggorczyca\\anaconda3\\envs\\gymcar\\lib\\site-packages (from google-auth-oauthlib<0.5,>=0.4.1->tensorboard<2.10,>=2.9->tensorflow) (1.3.1)\n",
      "Requirement already satisfied: importlib-metadata>=4.4 in c:\\users\\ggorczyca\\anaconda3\\envs\\gymcar\\lib\\site-packages (from markdown>=2.6.8->tensorboard<2.10,>=2.9->tensorflow) (4.12.0)\n",
      "Requirement already satisfied: certifi>=2017.4.17 in c:\\users\\ggorczyca\\anaconda3\\envs\\gymcar\\lib\\site-packages (from requests<3,>=2.21.0->tensorboard<2.10,>=2.9->tensorflow) (2022.6.15)\n",
      "Requirement already satisfied: charset-normalizer<3,>=2 in c:\\users\\ggorczyca\\anaconda3\\envs\\gymcar\\lib\\site-packages (from requests<3,>=2.21.0->tensorboard<2.10,>=2.9->tensorflow) (2.1.0)\n",
      "Requirement already satisfied: idna<4,>=2.5 in c:\\users\\ggorczyca\\anaconda3\\envs\\gymcar\\lib\\site-packages (from requests<3,>=2.21.0->tensorboard<2.10,>=2.9->tensorflow) (3.3)\n",
      "Requirement already satisfied: urllib3<1.27,>=1.21.1 in c:\\users\\ggorczyca\\anaconda3\\envs\\gymcar\\lib\\site-packages (from requests<3,>=2.21.0->tensorboard<2.10,>=2.9->tensorflow) (1.26.11)\n",
      "Requirement already satisfied: MarkupSafe>=2.1.1 in c:\\users\\ggorczyca\\anaconda3\\envs\\gymcar\\lib\\site-packages (from werkzeug>=1.0.1->tensorboard<2.10,>=2.9->tensorflow) (2.1.1)\n",
      "Requirement already satisfied: zipp>=0.5 in c:\\users\\ggorczyca\\anaconda3\\envs\\gymcar\\lib\\site-packages (from importlib-metadata>=4.4->markdown>=2.6.8->tensorboard<2.10,>=2.9->tensorflow) (3.8.1)\n",
      "Requirement already satisfied: pyasn1<0.5.0,>=0.4.6 in c:\\users\\ggorczyca\\anaconda3\\envs\\gymcar\\lib\\site-packages (from pyasn1-modules>=0.2.1->google-auth<3,>=1.6.3->tensorboard<2.10,>=2.9->tensorflow) (0.4.8)\n",
      "Requirement already satisfied: oauthlib>=3.0.0 in c:\\users\\ggorczyca\\anaconda3\\envs\\gymcar\\lib\\site-packages (from requests-oauthlib>=0.7.0->google-auth-oauthlib<0.5,>=0.4.1->tensorboard<2.10,>=2.9->tensorflow) (3.2.0)\n",
      "Requirement already satisfied: gym in c:\\users\\ggorczyca\\anaconda3\\envs\\gymcar\\lib\\site-packages (0.21.0)\n",
      "Requirement already satisfied: numpy>=1.18.0 in c:\\users\\ggorczyca\\anaconda3\\envs\\gymcar\\lib\\site-packages (from gym) (1.23.1)\n",
      "Requirement already satisfied: cloudpickle>=1.2.0 in c:\\users\\ggorczyca\\anaconda3\\envs\\gymcar\\lib\\site-packages (from gym) (2.1.0)\n",
      "Requirement already satisfied: numpy in c:\\users\\ggorczyca\\anaconda3\\envs\\gymcar\\lib\\site-packages (1.23.1)\n",
      "Requirement already satisfied: sklearn in c:\\users\\ggorczyca\\anaconda3\\envs\\gymcar\\lib\\site-packages (0.0)\n",
      "Requirement already satisfied: scikit-learn in c:\\users\\ggorczyca\\anaconda3\\envs\\gymcar\\lib\\site-packages (from sklearn) (1.1.2)\n",
      "Requirement already satisfied: numpy>=1.17.3 in c:\\users\\ggorczyca\\anaconda3\\envs\\gymcar\\lib\\site-packages (from scikit-learn->sklearn) (1.23.1)\n",
      "Requirement already satisfied: joblib>=1.0.0 in c:\\users\\ggorczyca\\anaconda3\\envs\\gymcar\\lib\\site-packages (from scikit-learn->sklearn) (1.1.0)\n",
      "Requirement already satisfied: scipy>=1.3.2 in c:\\users\\ggorczyca\\anaconda3\\envs\\gymcar\\lib\\site-packages (from scikit-learn->sklearn) (1.9.0)\n",
      "Requirement already satisfied: threadpoolctl>=2.0.0 in c:\\users\\ggorczyca\\anaconda3\\envs\\gymcar\\lib\\site-packages (from scikit-learn->sklearn) (3.1.0)\n"
     ]
    }
   ],
   "source": [
    "!pip install ray[rllib]\n",
    "!pip install tensorflow\n",
    "!pip install gym\n",
    "!pip install numpy"
   ]
  },
  {
   "cell_type": "code",
   "execution_count": 1,
   "id": "13c5a41f-76e4-4bb7-9f0e-c7ca67a6d77e",
   "metadata": {},
   "outputs": [],
   "source": [
    "import gym\n",
    "import random\n",
    "import numpy as np"
   ]
  },
  {
   "cell_type": "markdown",
   "id": "fa965c98-a73e-4483-8679-0b74fee2308d",
   "metadata": {},
   "source": [
    "## Build the Gym Environment"
   ]
  },
  {
   "cell_type": "code",
   "execution_count": 2,
   "id": "fd742469-7028-4209-876a-b0cba049fb08",
   "metadata": {},
   "outputs": [],
   "source": [
    "class Car_v0(gym.Env):\n",
    "    def __init__(self):\n",
    "        # the action space ranges [0, 1, 2] where:\n",
    "        #  `0` slow down\n",
    "        #  `1` keep speed\n",
    "        #  `2` speed up\n",
    "        self.action_space = gym.spaces.Discrete(3)\n",
    "\n",
    "        # speed array, must contain every possible state, in this case it is speed from 0 to 100\n",
    "        self.observation_space = gym.spaces.Discrete(100+1)\n",
    "\n",
    "        # generate initial values\n",
    "        self.state = 57 + random.randint(-5, 5)  # simulation starts at a random speed from 52 to 62\n",
    "        self.drive_length = 60  # total time of each episode (60 seconds)\n",
    "        self.reward = 0  # blank variable to hold the reward of each move\n",
    "\n",
    "    def reset(self):\n",
    "        # resets state, time, and reward to initial values\n",
    "        self.state = 57 + random.randint(-5, 5)\n",
    "        self.drive_length = 60\n",
    "        return self.state  # function must return the initial state\n",
    "\n",
    "    def step(self, action):\n",
    "        # executes each action and calculates reward\n",
    "        done = False\n",
    "        reward = 0\n",
    "        # remove 1 second from time\n",
    "        self.drive_length -= 1\n",
    "        # apply the action (-1, 0, or 1 added to speed)\n",
    "        self.state += action - 1\n",
    "\n",
    "        # Calculate rewards; positive if between speed of 57 and 61, else negative\n",
    "        if self.state >= 57 and self.state <= 61:\n",
    "            reward = 1\n",
    "        else:\n",
    "            reward = -1\n",
    "\n",
    "        # check if episode time is over\n",
    "        if self.drive_length <= 0:\n",
    "            done = True\n",
    "\n",
    "        # add some random changes in speed for variability in episodes\n",
    "        self.state += random.randint(-1, 1)\n",
    "        \n",
    "        self.reward = reward\n",
    "\n",
    "        # return [state, reward, done, info]\n",
    "        return self.state, reward, done, {}\n",
    "\n",
    "    def render(self, mode=\"human\"):\n",
    "        # just prints out the current speed and reward given on each step (uncomment the 2 lines below)\n",
    "        #s = \"speed: {:2d}  reward: {:2d}\"\n",
    "        #print(s.format(self.state, self.reward))\n",
    "        pass"
   ]
  },
  {
   "cell_type": "markdown",
   "id": "a2ec9106-8dc3-4572-a97f-a9e3439ede35",
   "metadata": {
    "tags": []
   },
   "source": [
    "## Test the Environment"
   ]
  },
  {
   "cell_type": "code",
   "execution_count": 3,
   "id": "d006ee0a-1091-415b-b4c4-8fba30469c2d",
   "metadata": {},
   "outputs": [
    {
     "name": "stdout",
     "output_type": "stream",
     "text": [
      "Episode:0 Score:-16\n",
      "Episode:1 Score:14\n",
      "Episode:2 Score:-20\n",
      "Episode:3 Score:-52\n",
      "Episode:4 Score:-20\n",
      "Episode:5 Score:-46\n",
      "Episode:6 Score:-14\n",
      "Episode:7 Score:-20\n",
      "Episode:8 Score:-20\n",
      "Episode:9 Score:-50\n"
     ]
    }
   ],
   "source": [
    "# instantiate the environment\n",
    "env = Car_v0()\n",
    "sum_total = 0\n",
    "\n",
    "# run through 10 episodes\n",
    "episodes = 10\n",
    "for x in range(0, episodes):\n",
    "    state = env.reset()\n",
    "    done = False\n",
    "    reward = 0\n",
    "    sum_reward = 0\n",
    "\n",
    "    while not done:\n",
    "        env.render()\n",
    "        # will do a random action each time\n",
    "        action = env.action_space.sample()\n",
    "        n_state, reward, done, info = env.step(action)\n",
    "        sum_reward += reward\n",
    "     \n",
    "    # print the episode summary\n",
    "    print('Episode:{} Score:{}'.format(x, sum_reward))"
   ]
  },
  {
   "cell_type": "markdown",
   "id": "7523dac1-0350-4921-a275-910b5075224c",
   "metadata": {
    "tags": []
   },
   "source": [
    "## Initialize Ray"
   ]
  },
  {
   "cell_type": "code",
   "execution_count": 4,
   "id": "ba2780ec-c0a3-4fb0-9742-241e42a50284",
   "metadata": {},
   "outputs": [
    {
     "data": {
      "text/plain": [
       "RayContext(dashboard_url='', python_version='3.8.13', ray_version='1.13.0', ray_commit='e4ce38d001dbbe09cd21c497fedd03d692b2be3e', address_info={'node_ip_address': '127.0.0.1', 'raylet_ip_address': '127.0.0.1', 'redis_address': None, 'object_store_address': 'tcp://127.0.0.1:64709', 'raylet_socket_name': 'tcp://127.0.0.1:62887', 'webui_url': '', 'session_dir': 'C:\\\\Users\\\\GGORCZ~1\\\\AppData\\\\Local\\\\Temp\\\\ray\\\\session_2022-08-29_08-48-23_139358_22332', 'metrics_export_port': 62339, 'gcs_address': '127.0.0.1:65015', 'address': '127.0.0.1:65015', 'node_id': 'eef308fdc11703f86049eb927c460008366273bc46300e90635b5bd7'})"
      ]
     },
     "execution_count": 4,
     "metadata": {},
     "output_type": "execute_result"
    }
   ],
   "source": [
    "import ray\n",
    "import ray.rllib.agents.ppo as ppo\n",
    "from ray.tune.logger import pretty_print\n",
    "from ray.tune.registry import register_env\n",
    "\n",
    "ray.init()"
   ]
  },
  {
   "cell_type": "markdown",
   "id": "9110b2bf-1e30-4644-a6bb-00603e12b7fa",
   "metadata": {},
   "source": [
    "## Train with RLlib"
   ]
  },
  {
   "cell_type": "code",
   "execution_count": 5,
   "id": "5c8a7296-cef6-4cc2-a1fa-cc15d36e9506",
   "metadata": {
    "scrolled": true,
    "tags": []
   },
   "outputs": [
    {
     "name": "stderr",
     "output_type": "stream",
     "text": [
      "2022-08-29 08:48:29,927\tINFO trainer.py:2332 -- Your framework setting is 'tf', meaning you are using static-graph mode. Set framework='tf2' to enable eager execution with tf2.x. You may also then want to set eager_tracing=True in order to reach similar execution speed as with static-graph mode.\n",
      "2022-08-29 08:48:29,930\tINFO ppo.py:414 -- In multi-agent mode, policies will be optimized sequentially by the multi-GPU optimizer. Consider setting simple_optimizer=True if this doesn't work for you.\n",
      "2022-08-29 08:48:29,930\tINFO trainer.py:903 -- Current log_level is WARN. For more information, set 'log_level': 'INFO' / 'DEBUG' or use the -v and -vv flags.\n",
      "\u001b[2m\u001b[36m(RolloutWorker pid=9748)\u001b[0m 2022-08-29 08:48:39,028\tWARNING env.py:135 -- Your env doesn't have a .spec.max_episode_steps attribute. This is fine if you have set 'horizon' in your config dictionary, or `soft_horizon`. However, if you haven't, 'horizon' will default to infinity, and your environment will not be reset.\n",
      "\u001b[2m\u001b[36m(RolloutWorker pid=792)\u001b[0m 2022-08-29 08:48:39,452\tWARNING env.py:135 -- Your env doesn't have a .spec.max_episode_steps attribute. This is fine if you have set 'horizon' in your config dictionary, or `soft_horizon`. However, if you haven't, 'horizon' will default to infinity, and your environment will not be reset.\n",
      "2022-08-29 08:48:41,268\tINFO trainable.py:159 -- Trainable.setup took 11.342 seconds. If your trainable is slow to initialize, consider setting reuse_actors=True to reduce actor creation overheads.\n",
      "2022-08-29 08:48:41,273\tWARNING util.py:65 -- Install gputil for GPU system monitoring.\n",
      "2022-08-29 08:48:43,494\tWARNING deprecation.py:46 -- DeprecationWarning: `slice` has been deprecated. Use `SampleBatch[start:stop]` instead. This will raise an error in the future!\n"
     ]
    },
    {
     "name": "stdout",
     "output_type": "stream",
     "text": [
      " 1 rewards: min -60.00 / mean -23.33 / max  40.00 saved C:\\Users\\ggorczyca/ray_results\\PPOTrainer_car-v0_2022-08-29_08-48-29kb34eq9n\\checkpoint_000001\\checkpoint-1\n",
      " 2 rewards: min -60.00 / mean -10.62 / max  54.00 saved C:\\Users\\ggorczyca/ray_results\\PPOTrainer_car-v0_2022-08-29_08-48-29kb34eq9n\\checkpoint_000002\\checkpoint-2\n",
      " 3 rewards: min -60.00 / mean  15.00 / max  60.00 saved C:\\Users\\ggorczyca/ray_results\\PPOTrainer_car-v0_2022-08-29_08-48-29kb34eq9n\\checkpoint_000003\\checkpoint-3\n",
      " 4 rewards: min -24.00 / mean  39.62 / max  60.00 saved C:\\Users\\ggorczyca/ray_results\\PPOTrainer_car-v0_2022-08-29_08-48-29kb34eq9n\\checkpoint_000004\\checkpoint-4\n",
      " 5 rewards: min -10.00 / mean  47.38 / max  60.00 saved C:\\Users\\ggorczyca/ray_results\\PPOTrainer_car-v0_2022-08-29_08-48-29kb34eq9n\\checkpoint_000005\\checkpoint-5\n",
      " 6 rewards: min -10.00 / mean  51.12 / max  60.00 saved C:\\Users\\ggorczyca/ray_results\\PPOTrainer_car-v0_2022-08-29_08-48-29kb34eq9n\\checkpoint_000006\\checkpoint-6\n",
      " 7 rewards: min   6.00 / mean  53.98 / max  60.00 saved C:\\Users\\ggorczyca/ray_results\\PPOTrainer_car-v0_2022-08-29_08-48-29kb34eq9n\\checkpoint_000007\\checkpoint-7\n",
      " 8 rewards: min  32.00 / mean  55.14 / max  60.00 saved C:\\Users\\ggorczyca/ray_results\\PPOTrainer_car-v0_2022-08-29_08-48-29kb34eq9n\\checkpoint_000008\\checkpoint-8\n",
      " 9 rewards: min  34.00 / mean  55.38 / max  60.00 saved C:\\Users\\ggorczyca/ray_results\\PPOTrainer_car-v0_2022-08-29_08-48-29kb34eq9n\\checkpoint_000009\\checkpoint-9\n",
      "10 rewards: min  40.00 / mean  56.14 / max  60.00 saved C:\\Users\\ggorczyca/ray_results\\PPOTrainer_car-v0_2022-08-29_08-48-29kb34eq9n\\checkpoint_000010\\checkpoint-10\n",
      "11 rewards: min  42.00 / mean  57.10 / max  60.00 saved C:\\Users\\ggorczyca/ray_results\\PPOTrainer_car-v0_2022-08-29_08-48-29kb34eq9n\\checkpoint_000011\\checkpoint-11\n",
      "12 rewards: min  24.00 / mean  56.52 / max  60.00 saved C:\\Users\\ggorczyca/ray_results\\PPOTrainer_car-v0_2022-08-29_08-48-29kb34eq9n\\checkpoint_000012\\checkpoint-12\n",
      "13 rewards: min  50.00 / mean  57.70 / max  60.00 saved C:\\Users\\ggorczyca/ray_results\\PPOTrainer_car-v0_2022-08-29_08-48-29kb34eq9n\\checkpoint_000013\\checkpoint-13\n",
      "14 rewards: min  48.00 / mean  57.76 / max  60.00 saved C:\\Users\\ggorczyca/ray_results\\PPOTrainer_car-v0_2022-08-29_08-48-29kb34eq9n\\checkpoint_000014\\checkpoint-14\n",
      "15 rewards: min  40.00 / mean  57.20 / max  60.00 saved C:\\Users\\ggorczyca/ray_results\\PPOTrainer_car-v0_2022-08-29_08-48-29kb34eq9n\\checkpoint_000015\\checkpoint-15\n",
      "16 rewards: min  40.00 / mean  57.06 / max  60.00 saved C:\\Users\\ggorczyca/ray_results\\PPOTrainer_car-v0_2022-08-29_08-48-29kb34eq9n\\checkpoint_000016\\checkpoint-16\n",
      "17 rewards: min  42.00 / mean  57.12 / max  60.00 saved C:\\Users\\ggorczyca/ray_results\\PPOTrainer_car-v0_2022-08-29_08-48-29kb34eq9n\\checkpoint_000017\\checkpoint-17\n",
      "18 rewards: min  44.00 / mean  56.70 / max  60.00 saved C:\\Users\\ggorczyca/ray_results\\PPOTrainer_car-v0_2022-08-29_08-48-29kb34eq9n\\checkpoint_000018\\checkpoint-18\n",
      "19 rewards: min  42.00 / mean  56.46 / max  60.00 saved C:\\Users\\ggorczyca/ray_results\\PPOTrainer_car-v0_2022-08-29_08-48-29kb34eq9n\\checkpoint_000019\\checkpoint-19\n",
      "20 rewards: min  40.00 / mean  56.24 / max  60.00 saved C:\\Users\\ggorczyca/ray_results\\PPOTrainer_car-v0_2022-08-29_08-48-29kb34eq9n\\checkpoint_000020\\checkpoint-20\n"
     ]
    }
   ],
   "source": [
    "# first register environment to use with RLlib\n",
    "register_env('car-v0', lambda config: Car_v0())\n",
    "\n",
    "# instantiate the RL algorithm, chose PPO for simplicity\n",
    "config = ppo.DEFAULT_CONFIG.copy()\n",
    "config[\"log_level\"] = \"WARN\"\n",
    "\n",
    "# build a trainer object with the algorithm and enviroment\n",
    "trainer = ppo.PPOTrainer(config, env='car-v0')\n",
    "\n",
    "status = \"{:2d} rewards: min {:6.2f} / mean {:6.2f} / max {:6.2f} saved {}\"\n",
    "\n",
    "for i in range(20):\n",
    "   # Perform one iteration of training the policy with PPO\n",
    "    result = trainer.train()\n",
    "    checkpoint = trainer.save()\n",
    "    # prints out the result of each training iteration\n",
    "    print(status.format(\n",
    "                i + 1,\n",
    "                result[\"episode_reward_min\"],\n",
    "                result[\"episode_reward_mean\"],\n",
    "                result[\"episode_reward_max\"],\n",
    "                checkpoint\n",
    "                ))"
   ]
  },
  {
   "attachments": {
    "Screenshot%202022-08-11%20123230.png": {
     "image/png": "[encoded data removed]"
    }
   },
   "cell_type": "markdown",
   "id": "54e4e8ab-7038-4184-955c-00f7578f47e0",
   "metadata": {},
   "source": [
    "![Screenshot%202022-08-11%20123230.png](attachment:Screenshot%202022-08-11%20123230.png)"
   ]
  },
  {
   "cell_type": "markdown",
   "id": "b08de610-9f40-48f7-8649-beeb652d73ec",
   "metadata": {},
   "source": [
    "Chart shows the increase in average reward over many steps of training."
   ]
  },
  {
   "cell_type": "markdown",
   "id": "d600e468-687d-48fe-aa6c-ed25807e67d5",
   "metadata": {},
   "source": [
    "## Use the Trained Model"
   ]
  },
  {
   "cell_type": "code",
   "execution_count": 11,
   "id": "4b326899-3f42-4ba2-802e-553626171f34",
   "metadata": {},
   "outputs": [
    {
     "name": "stdout",
     "output_type": "stream",
     "text": [
      "Model: \"model\"\n",
      "__________________________________________________________________________________________________\n",
      " Layer (type)                   Output Shape         Param #     Connected to                     \n",
      "==================================================================================================\n",
      " observations (InputLayer)      [(None, 101)]        0           []                               \n",
      "                                                                                                  \n",
      " fc_1 (Dense)                   (None, 256)          26112       ['observations[0][0]']           \n",
      "                                                                                                  \n",
      " fc_value_1 (Dense)             (None, 256)          26112       ['observations[0][0]']           \n",
      "                                                                                                  \n",
      " fc_2 (Dense)                   (None, 256)          65792       ['fc_1[0][0]']                   \n",
      "                                                                                                  \n",
      " fc_value_2 (Dense)             (None, 256)          65792       ['fc_value_1[0][0]']             \n",
      "                                                                                                  \n",
      " fc_out (Dense)                 (None, 3)            771         ['fc_2[0][0]']                   \n",
      "                                                                                                  \n",
      " value_out (Dense)              (None, 1)            257         ['fc_value_2[0][0]']             \n",
      "                                                                                                  \n",
      "==================================================================================================\n",
      "Total params: 184,836\n",
      "Trainable params: 184,836\n",
      "Non-trainable params: 0\n",
      "__________________________________________________________________________________________________\n",
      "None\n"
     ]
    }
   ],
   "source": [
    "policy = trainer.get_policy()\n",
    "model = policy.model\n",
    "# prints a summary of the model\n",
    "print(model.base_model.summary())"
   ]
  },
  {
   "cell_type": "code",
   "execution_count": 13,
   "id": "62506b80-addb-4e28-87cd-593d813196a8",
   "metadata": {},
   "outputs": [
    {
     "name": "stderr",
     "output_type": "stream",
     "text": [
      "2022-08-16 12:43:15,402\tINFO trainable.py:588 -- Restored on 127.0.0.1 from checkpoint: C:\\Users\\ggorczyca/ray_results\\PPOTrainer_car-v0_2022-08-16_12-41-20tq3m0zpt\\checkpoint_000020\\checkpoint-20\n",
      "2022-08-16 12:43:15,403\tINFO trainable.py:597 -- Current state after restoring: {'_iteration': 20, '_timesteps_total': None, '_time_total': 93.70845484733582, '_episodes_total': 1332}\n"
     ]
    },
    {
     "name": "stdout",
     "output_type": "stream",
     "text": [
      "Episode:1 Score:60\n",
      "Episode:2 Score:60\n",
      "Episode:3 Score:54\n",
      "Episode:4 Score:56\n",
      "Episode:5 Score:60\n",
      "Episode:6 Score:60\n",
      "Episode:7 Score:60\n",
      "Episode:8 Score:54\n",
      "Episode:9 Score:58\n",
      "Episode:10 Score:54\n"
     ]
    }
   ],
   "source": [
    "# get the trained model\n",
    "trainer.restore(checkpoint)\n",
    "env = Car_v0()\n",
    "\n",
    "# run it through 10 episodes, the same way the environment was tested\n",
    "episodes = 10\n",
    "for x in range(1, episodes+1):\n",
    "    state = env.reset()\n",
    "    done = False\n",
    "    reward = 0\n",
    "    sum_reward = 0\n",
    "\n",
    "    while not done:\n",
    "        env.render()\n",
    "        action = trainer.compute_action(state)\n",
    "        state, reward, done, info = env.step(action)\n",
    "        sum_reward += reward\n",
    "     \n",
    "    print('Episode:{} Score:{}'.format(x, sum_reward))"
   ]
  },
  {
   "cell_type": "markdown",
   "id": "a0e5cf06-0e60-4ffe-8faf-057e622325e9",
   "metadata": {},
   "source": [
    "You can see that the score is close to the max of 60 every time, which means that the trained model does well after just 20 episodes of training."
   ]
  }
 ],
 "metadata": {
  "kernelspec": {
   "display_name": "Python 3 (ipykernel)",
   "language": "python",
   "name": "python3"
  },
  "language_info": {
   "codemirror_mode": {
    "name": "ipython",
    "version": 3
   },
   "file_extension": ".py",
   "mimetype": "text/x-python",
   "name": "python",
   "nbconvert_exporter": "python",
   "pygments_lexer": "ipython3",
   "version": "3.8.13"
  }
 },
 "nbformat": 4,
 "nbformat_minor": 5
}
